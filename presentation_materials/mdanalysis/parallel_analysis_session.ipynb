{
 "cells": [
  {
   "cell_type": "markdown",
   "metadata": {},
   "source": [
    "# The Hitchhiker's Guide to Parallel Analysis in MDAnalysis"
   ]
  },
  {
   "cell_type": "code",
   "execution_count": 23,
   "metadata": {},
   "outputs": [],
   "source": [
    "import numpy as np\n",
    "from joblib import Parallel, delayed\n",
    "from joblib import parallel_config\n",
    "\n",
    "import MDAnalysis as mda\n",
    "from MDAnalysis.tests.datafiles import GRO, XTC\n",
    "\n",
    "u = mda.Universe(GRO, XTC)"
   ]
  },
  {
   "cell_type": "markdown",
   "metadata": {},
   "source": [
    "## How does the `Universe` object read information from each timestep using an object-oriented approach?"
   ]
  },
  {
   "cell_type": "code",
   "execution_count": 24,
   "metadata": {},
   "outputs": [
    {
     "name": "stdout",
     "output_type": "stream",
     "text": [
      "first CA atom position: [53.07 44.21 30.75]\n",
      "first CA atom position: [55.400005 41.56     28.560001]\n",
      "first CA atom position: [55.990005 40.870003 29.280003]\n"
     ]
    }
   ],
   "source": [
    "atoms = u.select_atoms('name CA')\n",
    "for ts in u.trajectory[:3]:\n",
    "    print(f'first CA atom position: {atoms.positions[0]}')"
   ]
  },
  {
   "cell_type": "markdown",
   "metadata": {},
   "source": [
    "Access of Atom-level positions\n",
    "\n",
    "->\n",
    "\n",
    "View of timestep positions\n",
    "\n",
    "->\n",
    "\n",
    "Read from raw files"
   ]
  },
  {
   "cell_type": "markdown",
   "metadata": {},
   "source": [
    "```python\n",
    "class AtomGroup:\n",
    "    @property\n",
    "    def positions(self):\n",
    "        return self.universe.trajectory.ts.positions[self.ix]\n",
    "```\n"
   ]
  },
  {
   "cell_type": "markdown",
   "metadata": {},
   "source": [
    "```python\n",
    "class PDBReader:\n",
    "    def _read_frame(self, frame):\n",
    "        self._pdbfile.seek(start)\n",
    "        chunk = self._pdbfile.read(stop - start).decode()\n",
    "        tmp_buf = read_position_from_chunk(chunk)\n",
    "\n",
    "        self.ts.positions = tmp_buf\n",
    "```"
   ]
  },
  {
   "cell_type": "code",
   "execution_count": 25,
   "metadata": {},
   "outputs": [
    {
     "data": {
      "text/plain": [
       "<MDAnalysis.lib.formats.libmdaxdr.XTCFile at 0x3042be960>"
      ]
     },
     "execution_count": 25,
     "metadata": {},
     "output_type": "execute_result"
    }
   ],
   "source": [
    "u.trajectory._xdr"
   ]
  },
  {
   "cell_type": "markdown",
   "metadata": {},
   "source": [
    "```python\n",
    "class PDBReader:\n",
    "    def __init__(self, filename):\n",
    "        ...\n",
    "        self._pdbfile = util.anyopen(filename, 'rb')\n",
    "        ...\n",
    "```"
   ]
  },
  {
   "cell_type": "markdown",
   "metadata": {},
   "source": [
    "## Why is this related to parallel analysis?"
   ]
  },
  {
   "cell_type": "markdown",
   "metadata": {},
   "source": [
    "When you run a parallel analysis using the same instance of `Universe` across multiple workers, each worker will attempt to read a different frame, potentially leading to conflicts as they overwrite the state of the `Universe` object."
   ]
  },
  {
   "cell_type": "code",
   "execution_count": 26,
   "metadata": {},
   "outputs": [],
   "source": [
    "def read_first_atom_pos(frame):\n",
    "    u.trajectory[frame]\n",
    "    return u.atoms[0].position\n",
    "\n",
    "with parallel_config(backend='threading', n_jobs=4):\n",
    "   pos_lists = Parallel()(delayed(read_first_atom_pos)(frame) for frame in range(4))"
   ]
  },
  {
   "cell_type": "code",
   "execution_count": 27,
   "metadata": {},
   "outputs": [
    {
     "data": {
      "text/plain": [
       "[array([5590.    , 4039.    , 2729.0002], dtype=float32),\n",
       " array([5.4560003, 4.057    , 2.9490001], dtype=float32),\n",
       " array([559.     , 403.9    , 272.90002], dtype=float32),\n",
       " array([559.     , 403.9    , 272.90002], dtype=float32)]"
      ]
     },
     "execution_count": 27,
     "metadata": {},
     "output_type": "execute_result"
    }
   ],
   "source": [
    "pos_lists"
   ]
  },
  {
   "cell_type": "markdown",
   "metadata": {},
   "source": [
    "## Multiprocessing-based parallelism and Serilization"
   ]
  },
  {
   "cell_type": "markdown",
   "metadata": {},
   "source": [
    "We need to implement functions to create new `Universe` objects for each worker or process."
   ]
  },
  {
   "cell_type": "code",
   "execution_count": 28,
   "metadata": {},
   "outputs": [],
   "source": [
    "def read_first_atom_pos(frame):\n",
    "    u.trajectory[frame]\n",
    "    return u.atoms[0].position\n",
    "    \n",
    "# 'locky' is a process-based multiprocessing backend\n",
    "with parallel_config(backend='loky', n_jobs=4):\n",
    "   pos_lists = Parallel()(delayed(read_first_atom_pos)(frame) for frame in range(4))"
   ]
  },
  {
   "cell_type": "code",
   "execution_count": 29,
   "metadata": {},
   "outputs": [
    {
     "data": {
      "text/plain": [
       "[array([52.02    , 43.560005, 31.550003], dtype=float32),\n",
       " array([54.25, 40.98, 29.27], dtype=float32),\n",
       " array([54.560005, 40.57    , 29.490002], dtype=float32),\n",
       " array([55.9 , 40.39, 27.29], dtype=float32)]"
      ]
     },
     "execution_count": 29,
     "metadata": {},
     "output_type": "execute_result"
    }
   ],
   "source": [
    "pos_lists"
   ]
  },
  {
   "cell_type": "markdown",
   "metadata": {},
   "source": [
    "As part of the 2020 GSOC project, we implemented the foundational framework to **serialize**/**pickle** and **deserialize**/**unpickle** the Universe object and all its underlying components."
   ]
  },
  {
   "cell_type": "markdown",
   "metadata": {},
   "source": [
    "![](https://www.openrefactory.com/wp-content/uploads/2023/08/pickle-rick-1024x576.jpg)"
   ]
  },
  {
   "cell_type": "markdown",
   "metadata": {},
   "source": [
    "### File I/O\n",
    "```python\n",
    "# in lib/picklable_file_io.py\n",
    "class FileIOPicklable(io.FileIO):\n",
    "    def __setstate__(self, state):\n",
    "        name = state[\"name_val\"]\n",
    "        self.__init__(name, mode='r')\n",
    "        try:\n",
    "            self.seek(state[\"tell_val\"])\n",
    "        except KeyError:\n",
    "            pass\n",
    "\n",
    "    def __reduce_ex__(self, prot):\n",
    "        ...\n",
    "        return (self.__class__,\n",
    "                (self.name, self._mode),\n",
    "                {\"name_val\": self.name,\n",
    "                 \"tell_val\": self.tell()})\n",
    "```"
   ]
  },
  {
   "cell_type": "markdown",
   "metadata": {},
   "source": [
    "### Universe\n",
    "\n",
    "```python\n",
    "class Universe:\n",
    "    @classmethod\n",
    "    def _unpickle_U(cls, top, traj):\n",
    "        u = cls(top)\n",
    "        u.trajectory = traj\n",
    "        return u\n",
    "\n",
    "    def __reduce__(self):\n",
    "        #  Universe's two \"legs\" of top and traj both serialise themselves.\n",
    "        return (self._unpickle_U, (self._topology,\n",
    "                                   self._trajectory))\n",
    "```"
   ]
  },
  {
   "cell_type": "markdown",
   "metadata": {},
   "source": [
    "## \"Split-apply-combine” parallel analysis"
   ]
  },
  {
   "cell_type": "markdown",
   "metadata": {},
   "source": [
    "<img src=\"https://docs.mdanalysis.org/dev/_images/AnalysisBase_parallel.png\" alt=\"drawing\" style=\"width:1000px;\"/>"
   ]
  },
  {
   "cell_type": "markdown",
   "metadata": {},
   "source": [
    "This framework is designed for single-iteration analysis of a trajectory. The approach involves splitting the trajectory into chunks, applying the analysis to each chunk individually, and then combining the results."
   ]
  },
  {
   "cell_type": "markdown",
   "metadata": {},
   "source": [
    "## Don’t Panic: A Few Words of Wisdom"
   ]
  },
  {
   "cell_type": "markdown",
   "metadata": {},
   "source": [
    "1.\tI/O operations often become a bottleneck in straightforward analyses."
   ]
  },
  {
   "cell_type": "markdown",
   "metadata": {},
   "source": [
    "2. In most cases, per-frame parallelism is not efficient for analyses."
   ]
  },
  {
   "cell_type": "markdown",
   "metadata": {},
   "source": [
    "3. No thread parallelism!"
   ]
  },
  {
   "cell_type": "markdown",
   "metadata": {},
   "source": [
    "4. All objects must be serializable, so ensure they are picklable and not excessively large."
   ]
  },
  {
   "cell_type": "markdown",
   "metadata": {},
   "source": [
    "## The Best Approach, IMHO, for Fast Parallel Analysis"
   ]
  },
  {
   "cell_type": "code",
   "execution_count": 19,
   "metadata": {},
   "outputs": [],
   "source": [
    "from MDAnalysis.analysis.base import AnalysisFromFunction\n",
    "import matplotlib.pyplot as plt\n",
    "\n",
    "#import multiprocessing\n",
    "#multiprocessing.set_start_method('fork')\n",
    "import dask"
   ]
  },
  {
   "cell_type": "code",
   "execution_count": null,
   "metadata": {},
   "outputs": [],
   "source": [
    "u = mda.Universe('yiip_equilibrium/YiiP_system.pdb',\n",
    "                 'yiip_equilibrium/YiiP_system_9ns_center.xtc')"
   ]
  },
  {
   "cell_type": "code",
   "execution_count": 12,
   "metadata": {},
   "outputs": [],
   "source": [
    "# per frame analysis function\n",
    "def get_water_shell(water_ag):\n",
    "    return water_ag.n_residues"
   ]
  },
  {
   "cell_type": "code",
   "execution_count": 17,
   "metadata": {},
   "outputs": [
    {
     "data": {
      "text/plain": [
       "<MDAnalysis.analysis.base.AnalysisFromFunction at 0x30440e810>"
      ]
     },
     "execution_count": 17,
     "metadata": {},
     "output_type": "execute_result"
    }
   ],
   "source": [
    "water_shell = u.select_atoms('resname TIP3 and around 5 protein', updating=True)\n",
    "ana = AnalysisFromFunction(get_water_shell,\n",
    "                            trajectory=u.trajectory,\n",
    "                            water_ag=water_shell)\n",
    "\n",
    "#ana.run(backend='multiprocessing')\n",
    "ana.run(backend='dask', n_workers=6)"
   ]
  },
  {
   "cell_type": "code",
   "execution_count": 14,
   "metadata": {},
   "outputs": [
    {
     "data": {
      "text/plain": [
       "{'timeseries': array([2412, 2423, 2420, 2407, 2433, 2416, 2393, 2416, 2392, 2422, 2377,\n",
       "       2425, 2418, 2413, 2400, 2432, 2377, 2325, 2352, 2361, 2398, 2390,\n",
       "       2375, 2391, 2396, 2395, 2372, 2379, 2429, 2404, 2408, 2420, 2378,\n",
       "       2393, 2349, 2355, 2384, 2372, 2393, 2393, 2401, 2373, 2419, 2395,\n",
       "       2380, 2396, 2387, 2367, 2340, 2336, 2297, 2335, 2316, 2333, 2310,\n",
       "       2328, 2313, 2344, 2295, 2353, 2343, 2355, 2329, 2331, 2386, 2382,\n",
       "       2387, 2346, 2353, 2370, 2338, 2345, 2340, 2346, 2346, 2377, 2363,\n",
       "       2372, 2352, 2355, 2325, 2352, 2354, 2352, 2376, 2388, 2344, 2347,\n",
       "       2383, 2377, 2417, 2382, 2370, 2369, 2385, 2394, 2370, 2383, 2406,\n",
       "       2436, 2415, 2371, 2392, 2383, 2338, 2369, 2366, 2401, 2386, 2385,\n",
       "       2353, 2378, 2327, 2386, 2391, 2340, 2363, 2384, 2359, 2384, 2394,\n",
       "       2401, 2376, 2368, 2364, 2379, 2388, 2404, 2403, 2406, 2408, 2376,\n",
       "       2429, 2408, 2406, 2368, 2375, 2386, 2381, 2398, 2445, 2359, 2396,\n",
       "       2381, 2387, 2405, 2410, 2396, 2375, 2400, 2413, 2441, 2387, 2417,\n",
       "       2408, 2399, 2372, 2425, 2353, 2406, 2408, 2411, 2421, 2430, 2392,\n",
       "       2437, 2404, 2406, 2410, 2408, 2388, 2389, 2419, 2387, 2452, 2421,\n",
       "       2450, 2411, 2414, 2473, 2411, 2414, 2421, 2430, 2445, 2416, 2382,\n",
       "       2413, 2416, 2417, 2402, 2391, 2431, 2399, 2412, 2410, 2426, 2417,\n",
       "       2415, 2443, 2428, 2442, 2440, 2450, 2456, 2451, 2472, 2451, 2484,\n",
       "       2472, 2444, 2430, 2465, 2483, 2454, 2447, 2424, 2449, 2447, 2475,\n",
       "       2437, 2451, 2389, 2396, 2426, 2422, 2474, 2402, 2405, 2433, 2391,\n",
       "       2401, 2436, 2408, 2386, 2431, 2337, 2413, 2402, 2416, 2419, 2439,\n",
       "       2386, 2465, 2416, 2400, 2404, 2411, 2397, 2443, 2422, 2412, 2403,\n",
       "       2414, 2399, 2427, 2429, 2408, 2378, 2378, 2403, 2393, 2419, 2364,\n",
       "       2367, 2367, 2323, 2391, 2363, 2388, 2403, 2361, 2358, 2355, 2372,\n",
       "       2357, 2339, 2365, 2388, 2347, 2389, 2372, 2353, 2332, 2338, 2340,\n",
       "       2348, 2342, 2364, 2336, 2353, 2349, 2344, 2349, 2337, 2383, 2384,\n",
       "       2339, 2378, 2361, 2408, 2392, 2391, 2373, 2372, 2406, 2417, 2365,\n",
       "       2373, 2368, 2347, 2371, 2354, 2333, 2335, 2347, 2335, 2386, 2368,\n",
       "       2367, 2364, 2369, 2368, 2357, 2363, 2366, 2364, 2386, 2365, 2374,\n",
       "       2366, 2374, 2361, 2401, 2413, 2399, 2386, 2382, 2362, 2387, 2373,\n",
       "       2402, 2418, 2395, 2417, 2415, 2390, 2393, 2350, 2392, 2360, 2389,\n",
       "       2362, 2367, 2384, 2378, 2383, 2399, 2356, 2330, 2370, 2348, 2356,\n",
       "       2359, 2375, 2374, 2385, 2386, 2431, 2369, 2387, 2418, 2376, 2414,\n",
       "       2390, 2386, 2452, 2444, 2419, 2393, 2397, 2391, 2364, 2419, 2389,\n",
       "       2394, 2444, 2431, 2412, 2435, 2417, 2426, 2432, 2402, 2438, 2396,\n",
       "       2428, 2442, 2415, 2423, 2455, 2422, 2429, 2441, 2386, 2438, 2447,\n",
       "       2404, 2437, 2463, 2420, 2449, 2430, 2426, 2453, 2420, 2440, 2433,\n",
       "       2426, 2424, 2467, 2423, 2427, 2392, 2399, 2408, 2441, 2433, 2440,\n",
       "       2421, 2409, 2449, 2436, 2425, 2381, 2442, 2387, 2411, 2403, 2432,\n",
       "       2412, 2442, 2418, 2401, 2396, 2445, 2403, 2407, 2427, 2416, 2422,\n",
       "       2420, 2430, 2430, 2394, 2387, 2415, 2402, 2415, 2415, 2436, 2418,\n",
       "       2415, 2421, 2405, 2388, 2396, 2383, 2371, 2372, 2413, 2380, 2426,\n",
       "       2441, 2442, 2419, 2395, 2431, 2436, 2390, 2397, 2427, 2417, 2429,\n",
       "       2379, 2423, 2362, 2425, 2387, 2400, 2395, 2415, 2366, 2375, 2383,\n",
       "       2412, 2407, 2428, 2377, 2392, 2381, 2383, 2424, 2442, 2419, 2421,\n",
       "       2405, 2360, 2413, 2396, 2409, 2405, 2380, 2371, 2388, 2395, 2396,\n",
       "       2388, 2353, 2426, 2398, 2385, 2418, 2446, 2423, 2399, 2424, 2413,\n",
       "       2389, 2407, 2433, 2434, 2436, 2429, 2442, 2417, 2413, 2410, 2441,\n",
       "       2435, 2409, 2428, 2421, 2399, 2422, 2428, 2433, 2434, 2446, 2462,\n",
       "       2423, 2471, 2452, 2451, 2436, 2426, 2414, 2438, 2410, 2449, 2397,\n",
       "       2471, 2423, 2408, 2437, 2450, 2473, 2449, 2417, 2429, 2419, 2397,\n",
       "       2431, 2392, 2427, 2391, 2432, 2434, 2406, 2369, 2413, 2393, 2421,\n",
       "       2386, 2394, 2392, 2433, 2395, 2361, 2403, 2427, 2371, 2371, 2422,\n",
       "       2365, 2393, 2409, 2396, 2374, 2382, 2370, 2366, 2343, 2383, 2354,\n",
       "       2353, 2363, 2368, 2342, 2336, 2354, 2369, 2314, 2344, 2338, 2386,\n",
       "       2374, 2325, 2385, 2359, 2342, 2330, 2381, 2367, 2365, 2337, 2390,\n",
       "       2383, 2353, 2379, 2368, 2378, 2360, 2361, 2313, 2352, 2378, 2377,\n",
       "       2345, 2379, 2368, 2360, 2394, 2395, 2420, 2400, 2403, 2375, 2391,\n",
       "       2387, 2397, 2402, 2370, 2395, 2392, 2391, 2405, 2402, 2393, 2440,\n",
       "       2424, 2411, 2403, 2393, 2352, 2387, 2420, 2369, 2428, 2361, 2373,\n",
       "       2358, 2407, 2399, 2406, 2369, 2361, 2393, 2390, 2417, 2363, 2389,\n",
       "       2412, 2370, 2351, 2394, 2392, 2390, 2418, 2371, 2387, 2363, 2363,\n",
       "       2373, 2348, 2394, 2370, 2367, 2371, 2402, 2353, 2387, 2376, 2392,\n",
       "       2376, 2406, 2393, 2419, 2390, 2373, 2389, 2359, 2390, 2399, 2376,\n",
       "       2385, 2404, 2353, 2357, 2356, 2369, 2308, 2355, 2370, 2384, 2399,\n",
       "       2351, 2364, 2378, 2396, 2360, 2391, 2371, 2380, 2351, 2379, 2370,\n",
       "       2321, 2367, 2373, 2370, 2401, 2371, 2373, 2364, 2366, 2395, 2373,\n",
       "       2390, 2337, 2369, 2372, 2380, 2357, 2362, 2369, 2353, 2312, 2349,\n",
       "       2353, 2334, 2344, 2334, 2344, 2337, 2343, 2327, 2361, 2341, 2364,\n",
       "       2352, 2362, 2346, 2366, 2344, 2371, 2327, 2373, 2353, 2398, 2372,\n",
       "       2344, 2371, 2349, 2335, 2373, 2358, 2383, 2348, 2374, 2373, 2353,\n",
       "       2425, 2335, 2332, 2332, 2322, 2373, 2336, 2311, 2316, 2302, 2309,\n",
       "       2340, 2332, 2304, 2306, 2357, 2302, 2331, 2333, 2355, 2331, 2356,\n",
       "       2351, 2327, 2313, 2345, 2345, 2353, 2323, 2328, 2297, 2345, 2349,\n",
       "       2317, 2378, 2344, 2314, 2329, 2326, 2323, 2322, 2374, 2355, 2345,\n",
       "       2375, 2387, 2378, 2328, 2360, 2343, 2353, 2353, 2358, 2359, 2371,\n",
       "       2396, 2364, 2339, 2326, 2329, 2324, 2338, 2344, 2347, 2377, 2334,\n",
       "       2303, 2309, 2315, 2313, 2337, 2317, 2346, 2282, 2334, 2364, 2339,\n",
       "       2299, 2336, 2339, 2323, 2342, 2348, 2382, 2363, 2358, 2329, 2366,\n",
       "       2349, 2362, 2352, 2345, 2316, 2328, 2313, 2303, 2354, 2315, 2326,\n",
       "       2334, 2327, 2343, 2349, 2339, 2345, 2367, 2379, 2337, 2389]), 'frames': array([  0,   1,   2,   3,   4,   5,   6,   7,   8,   9,  10,  11,  12,\n",
       "        13,  14,  15,  16,  17,  18,  19,  20,  21,  22,  23,  24,  25,\n",
       "        26,  27,  28,  29,  30,  31,  32,  33,  34,  35,  36,  37,  38,\n",
       "        39,  40,  41,  42,  43,  44,  45,  46,  47,  48,  49,  50,  51,\n",
       "        52,  53,  54,  55,  56,  57,  58,  59,  60,  61,  62,  63,  64,\n",
       "        65,  66,  67,  68,  69,  70,  71,  72,  73,  74,  75,  76,  77,\n",
       "        78,  79,  80,  81,  82,  83,  84,  85,  86,  87,  88,  89,  90,\n",
       "        91,  92,  93,  94,  95,  96,  97,  98,  99, 100, 101, 102, 103,\n",
       "       104, 105, 106, 107, 108, 109, 110, 111, 112, 113, 114, 115, 116,\n",
       "       117, 118, 119, 120, 121, 122, 123, 124, 125, 126, 127, 128, 129,\n",
       "       130, 131, 132, 133, 134, 135, 136, 137, 138, 139, 140, 141, 142,\n",
       "       143, 144, 145, 146, 147, 148, 149, 150, 151, 152, 153, 154, 155,\n",
       "       156, 157, 158, 159, 160, 161, 162, 163, 164, 165, 166, 167, 168,\n",
       "       169, 170, 171, 172, 173, 174, 175, 176, 177, 178, 179, 180, 181,\n",
       "       182, 183, 184, 185, 186, 187, 188, 189, 190, 191, 192, 193, 194,\n",
       "       195, 196, 197, 198, 199, 200, 201, 202, 203, 204, 205, 206, 207,\n",
       "       208, 209, 210, 211, 212, 213, 214, 215, 216, 217, 218, 219, 220,\n",
       "       221, 222, 223, 224, 225, 226, 227, 228, 229, 230, 231, 232, 233,\n",
       "       234, 235, 236, 237, 238, 239, 240, 241, 242, 243, 244, 245, 246,\n",
       "       247, 248, 249, 250, 251, 252, 253, 254, 255, 256, 257, 258, 259,\n",
       "       260, 261, 262, 263, 264, 265, 266, 267, 268, 269, 270, 271, 272,\n",
       "       273, 274, 275, 276, 277, 278, 279, 280, 281, 282, 283, 284, 285,\n",
       "       286, 287, 288, 289, 290, 291, 292, 293, 294, 295, 296, 297, 298,\n",
       "       299, 300, 301, 302, 303, 304, 305, 306, 307, 308, 309, 310, 311,\n",
       "       312, 313, 314, 315, 316, 317, 318, 319, 320, 321, 322, 323, 324,\n",
       "       325, 326, 327, 328, 329, 330, 331, 332, 333, 334, 335, 336, 337,\n",
       "       338, 339, 340, 341, 342, 343, 344, 345, 346, 347, 348, 349, 350,\n",
       "       351, 352, 353, 354, 355, 356, 357, 358, 359, 360, 361, 362, 363,\n",
       "       364, 365, 366, 367, 368, 369, 370, 371, 372, 373, 374, 375, 376,\n",
       "       377, 378, 379, 380, 381, 382, 383, 384, 385, 386, 387, 388, 389,\n",
       "       390, 391, 392, 393, 394, 395, 396, 397, 398, 399, 400, 401, 402,\n",
       "       403, 404, 405, 406, 407, 408, 409, 410, 411, 412, 413, 414, 415,\n",
       "       416, 417, 418, 419, 420, 421, 422, 423, 424, 425, 426, 427, 428,\n",
       "       429, 430, 431, 432, 433, 434, 435, 436, 437, 438, 439, 440, 441,\n",
       "       442, 443, 444, 445, 446, 447, 448, 449, 450, 451, 452, 453, 454,\n",
       "       455, 456, 457, 458, 459, 460, 461, 462, 463, 464, 465, 466, 467,\n",
       "       468, 469, 470, 471, 472, 473, 474, 475, 476, 477, 478, 479, 480,\n",
       "       481, 482, 483, 484, 485, 486, 487, 488, 489, 490, 491, 492, 493,\n",
       "       494, 495, 496, 497, 498, 499, 500, 501, 502, 503, 504, 505, 506,\n",
       "       507, 508, 509, 510, 511, 512, 513, 514, 515, 516, 517, 518, 519,\n",
       "       520, 521, 522, 523, 524, 525, 526, 527, 528, 529, 530, 531, 532,\n",
       "       533, 534, 535, 536, 537, 538, 539, 540, 541, 542, 543, 544, 545,\n",
       "       546, 547, 548, 549, 550, 551, 552, 553, 554, 555, 556, 557, 558,\n",
       "       559, 560, 561, 562, 563, 564, 565, 566, 567, 568, 569, 570, 571,\n",
       "       572, 573, 574, 575, 576, 577, 578, 579, 580, 581, 582, 583, 584,\n",
       "       585, 586, 587, 588, 589, 590, 591, 592, 593, 594, 595, 596, 597,\n",
       "       598, 599, 600, 601, 602, 603, 604, 605, 606, 607, 608, 609, 610,\n",
       "       611, 612, 613, 614, 615, 616, 617, 618, 619, 620, 621, 622, 623,\n",
       "       624, 625, 626, 627, 628, 629, 630, 631, 632, 633, 634, 635, 636,\n",
       "       637, 638, 639, 640, 641, 642, 643, 644, 645, 646, 647, 648, 649,\n",
       "       650, 651, 652, 653, 654, 655, 656, 657, 658, 659, 660, 661, 662,\n",
       "       663, 664, 665, 666, 667, 668, 669, 670, 671, 672, 673, 674, 675,\n",
       "       676, 677, 678, 679, 680, 681, 682, 683, 684, 685, 686, 687, 688,\n",
       "       689, 690, 691, 692, 693, 694, 695, 696, 697, 698, 699, 700, 701,\n",
       "       702, 703, 704, 705, 706, 707, 708, 709, 710, 711, 712, 713, 714,\n",
       "       715, 716, 717, 718, 719, 720, 721, 722, 723, 724, 725, 726, 727,\n",
       "       728, 729, 730, 731, 732, 733, 734, 735, 736, 737, 738, 739, 740,\n",
       "       741, 742, 743, 744, 745, 746, 747, 748, 749, 750, 751, 752, 753,\n",
       "       754, 755, 756, 757, 758, 759, 760, 761, 762, 763, 764, 765, 766,\n",
       "       767, 768, 769, 770, 771, 772, 773, 774, 775, 776, 777, 778, 779,\n",
       "       780, 781, 782, 783, 784, 785, 786, 787, 788, 789, 790, 791, 792,\n",
       "       793, 794, 795, 796, 797, 798, 799, 800, 801, 802, 803, 804, 805,\n",
       "       806, 807, 808, 809, 810, 811, 812, 813, 814, 815, 816, 817, 818,\n",
       "       819, 820, 821, 822, 823, 824, 825, 826, 827, 828, 829, 830, 831,\n",
       "       832, 833, 834, 835, 836, 837, 838, 839, 840, 841, 842, 843, 844,\n",
       "       845, 846, 847, 848, 849, 850, 851, 852, 853, 854, 855, 856, 857,\n",
       "       858, 859, 860, 861, 862, 863, 864, 865, 866, 867, 868, 869, 870,\n",
       "       871, 872, 873, 874, 875, 876, 877, 878, 879, 880, 881, 882, 883,\n",
       "       884, 885, 886, 887, 888, 889, 890, 891, 892, 893, 894, 895, 896,\n",
       "       897, 898, 899, 900]), 'times': array([ 1000.,  1010.,  1020.,  1030.,  1040.,  1050.,  1060.,  1070.,\n",
       "        1080.,  1090.,  1100.,  1110.,  1120.,  1130.,  1140.,  1150.,\n",
       "        1160.,  1170.,  1180.,  1190.,  1200.,  1210.,  1220.,  1230.,\n",
       "        1240.,  1250.,  1260.,  1270.,  1280.,  1290.,  1300.,  1310.,\n",
       "        1320.,  1330.,  1340.,  1350.,  1360.,  1370.,  1380.,  1390.,\n",
       "        1400.,  1410.,  1420.,  1430.,  1440.,  1450.,  1460.,  1470.,\n",
       "        1480.,  1490.,  1500.,  1510.,  1520.,  1530.,  1540.,  1550.,\n",
       "        1560.,  1570.,  1580.,  1590.,  1600.,  1610.,  1620.,  1630.,\n",
       "        1640.,  1650.,  1660.,  1670.,  1680.,  1690.,  1700.,  1710.,\n",
       "        1720.,  1730.,  1740.,  1750.,  1760.,  1770.,  1780.,  1790.,\n",
       "        1800.,  1810.,  1820.,  1830.,  1840.,  1850.,  1860.,  1870.,\n",
       "        1880.,  1890.,  1900.,  1910.,  1920.,  1930.,  1940.,  1950.,\n",
       "        1960.,  1970.,  1980.,  1990.,  2000.,  2010.,  2020.,  2030.,\n",
       "        2040.,  2050.,  2060.,  2070.,  2080.,  2090.,  2100.,  2110.,\n",
       "        2120.,  2130.,  2140.,  2150.,  2160.,  2170.,  2180.,  2190.,\n",
       "        2200.,  2210.,  2220.,  2230.,  2240.,  2250.,  2260.,  2270.,\n",
       "        2280.,  2290.,  2300.,  2310.,  2320.,  2330.,  2340.,  2350.,\n",
       "        2360.,  2370.,  2380.,  2390.,  2400.,  2410.,  2420.,  2430.,\n",
       "        2440.,  2450.,  2460.,  2470.,  2480.,  2490.,  2500.,  2510.,\n",
       "        2520.,  2530.,  2540.,  2550.,  2560.,  2570.,  2580.,  2590.,\n",
       "        2600.,  2610.,  2620.,  2630.,  2640.,  2650.,  2660.,  2670.,\n",
       "        2680.,  2690.,  2700.,  2710.,  2720.,  2730.,  2740.,  2750.,\n",
       "        2760.,  2770.,  2780.,  2790.,  2800.,  2810.,  2820.,  2830.,\n",
       "        2840.,  2850.,  2860.,  2870.,  2880.,  2890.,  2900.,  2910.,\n",
       "        2920.,  2930.,  2940.,  2950.,  2960.,  2970.,  2980.,  2990.,\n",
       "        3000.,  3010.,  3020.,  3030.,  3040.,  3050.,  3060.,  3070.,\n",
       "        3080.,  3090.,  3100.,  3110.,  3120.,  3130.,  3140.,  3150.,\n",
       "        3160.,  3170.,  3180.,  3190.,  3200.,  3210.,  3220.,  3230.,\n",
       "        3240.,  3250.,  3260.,  3270.,  3280.,  3290.,  3300.,  3310.,\n",
       "        3320.,  3330.,  3340.,  3350.,  3360.,  3370.,  3380.,  3390.,\n",
       "        3400.,  3410.,  3420.,  3430.,  3440.,  3450.,  3460.,  3470.,\n",
       "        3480.,  3490.,  3500.,  3510.,  3520.,  3530.,  3540.,  3550.,\n",
       "        3560.,  3570.,  3580.,  3590.,  3600.,  3610.,  3620.,  3630.,\n",
       "        3640.,  3650.,  3660.,  3670.,  3680.,  3690.,  3700.,  3710.,\n",
       "        3720.,  3730.,  3740.,  3750.,  3760.,  3770.,  3780.,  3790.,\n",
       "        3800.,  3810.,  3820.,  3830.,  3840.,  3850.,  3860.,  3870.,\n",
       "        3880.,  3890.,  3900.,  3910.,  3920.,  3930.,  3940.,  3950.,\n",
       "        3960.,  3970.,  3980.,  3990.,  4000.,  4010.,  4020.,  4030.,\n",
       "        4040.,  4050.,  4060.,  4070.,  4080.,  4090.,  4100.,  4110.,\n",
       "        4120.,  4130.,  4140.,  4150.,  4160.,  4170.,  4180.,  4190.,\n",
       "        4200.,  4210.,  4220.,  4230.,  4240.,  4250.,  4260.,  4270.,\n",
       "        4280.,  4290.,  4300.,  4310.,  4320.,  4330.,  4340.,  4350.,\n",
       "        4360.,  4370.,  4380.,  4390.,  4400.,  4410.,  4420.,  4430.,\n",
       "        4440.,  4450.,  4460.,  4470.,  4480.,  4490.,  4500.,  4510.,\n",
       "        4520.,  4530.,  4540.,  4550.,  4560.,  4570.,  4580.,  4590.,\n",
       "        4600.,  4610.,  4620.,  4630.,  4640.,  4650.,  4660.,  4670.,\n",
       "        4680.,  4690.,  4700.,  4710.,  4720.,  4730.,  4740.,  4750.,\n",
       "        4760.,  4770.,  4780.,  4790.,  4800.,  4810.,  4820.,  4830.,\n",
       "        4840.,  4850.,  4860.,  4870.,  4880.,  4890.,  4900.,  4910.,\n",
       "        4920.,  4930.,  4940.,  4950.,  4960.,  4970.,  4980.,  4990.,\n",
       "        5000.,  5010.,  5020.,  5030.,  5040.,  5050.,  5060.,  5070.,\n",
       "        5080.,  5090.,  5100.,  5110.,  5120.,  5130.,  5140.,  5150.,\n",
       "        5160.,  5170.,  5180.,  5190.,  5200.,  5210.,  5220.,  5230.,\n",
       "        5240.,  5250.,  5260.,  5270.,  5280.,  5290.,  5300.,  5310.,\n",
       "        5320.,  5330.,  5340.,  5350.,  5360.,  5370.,  5380.,  5390.,\n",
       "        5400.,  5410.,  5420.,  5430.,  5440.,  5450.,  5460.,  5470.,\n",
       "        5480.,  5490.,  5500.,  5510.,  5520.,  5530.,  5540.,  5550.,\n",
       "        5560.,  5570.,  5580.,  5590.,  5600.,  5610.,  5620.,  5630.,\n",
       "        5640.,  5650.,  5660.,  5670.,  5680.,  5690.,  5700.,  5710.,\n",
       "        5720.,  5730.,  5740.,  5750.,  5760.,  5770.,  5780.,  5790.,\n",
       "        5800.,  5810.,  5820.,  5830.,  5840.,  5850.,  5860.,  5870.,\n",
       "        5880.,  5890.,  5900.,  5910.,  5920.,  5930.,  5940.,  5950.,\n",
       "        5960.,  5970.,  5980.,  5990.,  6000.,  6010.,  6020.,  6030.,\n",
       "        6040.,  6050.,  6060.,  6070.,  6080.,  6090.,  6100.,  6110.,\n",
       "        6120.,  6130.,  6140.,  6150.,  6160.,  6170.,  6180.,  6190.,\n",
       "        6200.,  6210.,  6220.,  6230.,  6240.,  6250.,  6260.,  6270.,\n",
       "        6280.,  6290.,  6300.,  6310.,  6320.,  6330.,  6340.,  6350.,\n",
       "        6360.,  6370.,  6380.,  6390.,  6400.,  6410.,  6420.,  6430.,\n",
       "        6440.,  6450.,  6460.,  6470.,  6480.,  6490.,  6500.,  6510.,\n",
       "        6520.,  6530.,  6540.,  6550.,  6560.,  6570.,  6580.,  6590.,\n",
       "        6600.,  6610.,  6620.,  6630.,  6640.,  6650.,  6660.,  6670.,\n",
       "        6680.,  6690.,  6700.,  6710.,  6720.,  6730.,  6740.,  6750.,\n",
       "        6760.,  6770.,  6780.,  6790.,  6800.,  6810.,  6820.,  6830.,\n",
       "        6840.,  6850.,  6860.,  6870.,  6880.,  6890.,  6900.,  6910.,\n",
       "        6920.,  6930.,  6940.,  6950.,  6960.,  6970.,  6980.,  6990.,\n",
       "        7000.,  7010.,  7020.,  7030.,  7040.,  7050.,  7060.,  7070.,\n",
       "        7080.,  7090.,  7100.,  7110.,  7120.,  7130.,  7140.,  7150.,\n",
       "        7160.,  7170.,  7180.,  7190.,  7200.,  7210.,  7220.,  7230.,\n",
       "        7240.,  7250.,  7260.,  7270.,  7280.,  7290.,  7300.,  7310.,\n",
       "        7320.,  7330.,  7340.,  7350.,  7360.,  7370.,  7380.,  7390.,\n",
       "        7400.,  7410.,  7420.,  7430.,  7440.,  7450.,  7460.,  7470.,\n",
       "        7480.,  7490.,  7500.,  7510.,  7520.,  7530.,  7540.,  7550.,\n",
       "        7560.,  7570.,  7580.,  7590.,  7600.,  7610.,  7620.,  7630.,\n",
       "        7640.,  7650.,  7660.,  7670.,  7680.,  7690.,  7700.,  7710.,\n",
       "        7720.,  7730.,  7740.,  7750.,  7760.,  7770.,  7780.,  7790.,\n",
       "        7800.,  7810.,  7820.,  7830.,  7840.,  7850.,  7860.,  7870.,\n",
       "        7880.,  7890.,  7900.,  7910.,  7920.,  7930.,  7940.,  7950.,\n",
       "        7960.,  7970.,  7980.,  7990.,  8000.,  8010.,  8020.,  8030.,\n",
       "        8040.,  8050.,  8060.,  8070.,  8080.,  8090.,  8100.,  8110.,\n",
       "        8120.,  8130.,  8140.,  8150.,  8160.,  8170.,  8180.,  8190.,\n",
       "        8200.,  8210.,  8220.,  8230.,  8240.,  8250.,  8260.,  8270.,\n",
       "        8280.,  8290.,  8300.,  8310.,  8320.,  8330.,  8340.,  8350.,\n",
       "        8360.,  8370.,  8380.,  8390.,  8400.,  8410.,  8420.,  8430.,\n",
       "        8440.,  8450.,  8460.,  8470.,  8480.,  8490.,  8500.,  8510.,\n",
       "        8520.,  8530.,  8540.,  8550.,  8560.,  8570.,  8580.,  8590.,\n",
       "        8600.,  8610.,  8620.,  8630.,  8640.,  8650.,  8660.,  8670.,\n",
       "        8680.,  8690.,  8700.,  8710.,  8720.,  8730.,  8740.,  8750.,\n",
       "        8760.,  8770.,  8780.,  8790.,  8800.,  8810.,  8820.,  8830.,\n",
       "        8840.,  8850.,  8860.,  8870.,  8880.,  8890.,  8900.,  8910.,\n",
       "        8920.,  8930.,  8940.,  8950.,  8960.,  8970.,  8980.,  8990.,\n",
       "        9000.,  9010.,  9020.,  9030.,  9040.,  9050.,  9060.,  9070.,\n",
       "        9080.,  9090.,  9100.,  9110.,  9120.,  9130.,  9140.,  9150.,\n",
       "        9160.,  9170.,  9180.,  9190.,  9200.,  9210.,  9220.,  9230.,\n",
       "        9240.,  9250.,  9260.,  9270.,  9280.,  9290.,  9300.,  9310.,\n",
       "        9320.,  9330.,  9340.,  9350.,  9360.,  9370.,  9380.,  9390.,\n",
       "        9400.,  9410.,  9420.,  9430.,  9440.,  9450.,  9460.,  9470.,\n",
       "        9480.,  9490.,  9500.,  9510.,  9520.,  9530.,  9540.,  9550.,\n",
       "        9560.,  9570.,  9580.,  9590.,  9600.,  9610.,  9620.,  9630.,\n",
       "        9640.,  9650.,  9660.,  9670.,  9680.,  9690.,  9700.,  9710.,\n",
       "        9720.,  9730.,  9740.,  9750.,  9760.,  9770.,  9780.,  9790.,\n",
       "        9800.,  9810.,  9820.,  9830.,  9840.,  9850.,  9860.,  9870.,\n",
       "        9880.,  9890.,  9900.,  9910.,  9920.,  9930.,  9940.,  9950.,\n",
       "        9960.,  9970.,  9980.,  9990., 10000.])}"
      ]
     },
     "execution_count": 14,
     "metadata": {},
     "output_type": "execute_result"
    }
   ],
   "source": [
    "ana.results"
   ]
  },
  {
   "cell_type": "code",
   "execution_count": null,
   "metadata": {},
   "outputs": [
    {
     "data": {
      "text/plain": [
       "[<matplotlib.lines.Line2D at 0x3060b4350>]"
      ]
     },
     "metadata": {},
     "output_type": "display_data"
    },
    {
     "data": {
      "image/png": "[encoded data removed]",
      "text/plain": [
       "<Figure size 640x480 with 1 Axes>"
      ]
     },
     "metadata": {},
     "output_type": "display_data"
    }
   ],
   "source": [
    "plt.plot(ana.results.frames, ana.results.timeseries)"
   ]
  },
  {
   "cell_type": "code",
   "execution_count": 16,
   "metadata": {},
   "outputs": [
    {
     "data": {
      "text/plain": [
       "<MDAnalysis.analysis.base.AnalysisFromFunction at 0x30536b500>"
      ]
     },
     "execution_count": 16,
     "metadata": {},
     "output_type": "execute_result"
    }
   ],
   "source": [
    "water_shell = u.select_atoms('resname TIP3 and around 5 protein', updating=True)\n",
    "ana = AnalysisFromFunction(get_water_shell,\n",
    "                            trajectory=u.trajectory,\n",
    "                            water_ag=water_shell)\n",
    "\n",
    "#ana.run(backend='multiprocessing')\n",
    "ana.run(backend='serial')"
   ]
  },
  {
   "cell_type": "code",
   "execution_count": 22,
   "metadata": {},
   "outputs": [
    {
     "data": {
      "text/plain": [
       "5.115384615384615"
      ]
     },
     "execution_count": 22,
     "metadata": {},
     "output_type": "execute_result"
    }
   ],
   "source": [
    "133 / 26"
   ]
  }
 ],
 "metadata": {
  "kernelspec": {
   "display_name": "mda-test",
   "language": "python",
   "name": "python3"
  },
  "language_info": {
   "codemirror_mode": {
    "name": "ipython",
    "version": 3
   },
   "file_extension": ".py",
   "mimetype": "text/x-python",
   "name": "python",
   "nbconvert_exporter": "python",
   "pygments_lexer": "ipython3",
   "version": "3.12.5"
  }
 },
 "nbformat": 4,
 "nbformat_minor": 2
}
